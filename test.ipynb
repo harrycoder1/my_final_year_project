{
 "cells": [
  {
   "cell_type": "markdown",
   "metadata": {},
   "source": []
  },
  {
   "cell_type": "code",
   "execution_count": 3,
   "metadata": {},
   "outputs": [
    {
     "ename": "SyntaxError",
     "evalue": "invalid syntax. Perhaps you forgot a comma? (3156794279.py, line 3)",
     "output_type": "error",
     "traceback": [
      "\u001b[1;36m  Cell \u001b[1;32mIn[3], line 3\u001b[1;36m\u001b[0m\n\u001b[1;33m    pip install requests\u001b[0m\n\u001b[1;37m        ^\u001b[0m\n\u001b[1;31mSyntaxError\u001b[0m\u001b[1;31m:\u001b[0m invalid syntax. Perhaps you forgot a comma?\n"
     ]
    }
   ],
   "source": [
    "# pip install ipykernal\n",
    "# pip install ipkernel\n",
    "pip install requests"
   ]
  },
  {
   "cell_type": "code",
   "execution_count": null,
   "metadata": {},
   "outputs": [
    {
     "ename": "ValueError",
     "evalue": "time data \"13-01-2024 02:55\" doesn't match format \"%m-%d-%Y %H:%M\", at position 3. You might want to try:\n    - passing `format` if your strings have a consistent format;\n    - passing `format='ISO8601'` if your strings are all ISO8601 but not necessarily in exactly the same format;\n    - passing `format='mixed'`, and the format will be inferred for each element individually. You might want to use `dayfirst` alongside this.",
     "output_type": "error",
     "traceback": [
      "\u001b[1;31m---------------------------------------------------------------------------\u001b[0m",
      "\u001b[1;31mValueError\u001b[0m                                Traceback (most recent call last)",
      "Cell \u001b[1;32mIn[16], line 78\u001b[0m\n\u001b[0;32m     73\u001b[0m         \u001b[38;5;28;01mreturn\u001b[39;00m  pd\u001b[38;5;241m.\u001b[39mmerge(d_d , d_l , on\u001b[38;5;241m=\u001b[39m\u001b[38;5;124m\"\u001b[39m\u001b[38;5;124mstart_time\u001b[39m\u001b[38;5;124m\"\u001b[39m , how\u001b[38;5;241m=\u001b[39m\u001b[38;5;124m\"\u001b[39m\u001b[38;5;124minner\u001b[39m\u001b[38;5;124m\"\u001b[39m)\n\u001b[0;32m     76\u001b[0m \u001b[38;5;66;03m# test \u001b[39;00m\n\u001b[1;32m---> 78\u001b[0m d \u001b[38;5;241m=\u001b[39m \u001b[43mWaterApi\u001b[49m\u001b[43m(\u001b[49m\u001b[43m)\u001b[49m\n\u001b[0;32m     79\u001b[0m \u001b[38;5;28mprint\u001b[39m(d\u001b[38;5;241m.\u001b[39mdata_set)\n",
      "Cell \u001b[1;32mIn[16], line 17\u001b[0m, in \u001b[0;36mWaterApi.__init__\u001b[1;34m(self)\u001b[0m\n\u001b[0;32m     13\u001b[0m \u001b[38;5;28mself\u001b[39m\u001b[38;5;241m.\u001b[39mdata_set \u001b[38;5;241m=\u001b[39m pd\u001b[38;5;241m.\u001b[39mDataFrame(__data[\u001b[38;5;124m'\u001b[39m\u001b[38;5;124mData\u001b[39m\u001b[38;5;124m'\u001b[39m])\n\u001b[0;32m     15\u001b[0m \u001b[38;5;28mself\u001b[39m\u001b[38;5;241m.\u001b[39mdata_set \u001b[38;5;241m=\u001b[39m  \u001b[38;5;28mself\u001b[39m\u001b[38;5;241m.\u001b[39mdata_set\u001b[38;5;241m.\u001b[39mdropna() \u001b[38;5;28;01mif\u001b[39;00m \u001b[38;5;28mself\u001b[39m\u001b[38;5;241m.\u001b[39mdata_set\u001b[38;5;241m.\u001b[39miloc[\u001b[38;5;241m-\u001b[39m\u001b[38;5;241m1\u001b[39m]\u001b[38;5;241m.\u001b[39misnull()\u001b[38;5;241m.\u001b[39msum()\u001b[38;5;241m==\u001b[39m \u001b[38;5;241m0\u001b[39m \u001b[38;5;28;01melse\u001b[39;00m \u001b[38;5;28mself\u001b[39m\u001b[38;5;241m.\u001b[39mdata_set[:\u001b[38;5;241m-\u001b[39m\u001b[38;5;241m1\u001b[39m]\u001b[38;5;241m.\u001b[39mdropna()\n\u001b[1;32m---> 17\u001b[0m \u001b[38;5;28mself\u001b[39m\u001b[38;5;241m.\u001b[39mdata_set[\u001b[38;5;124m'\u001b[39m\u001b[38;5;124mstart_time\u001b[39m\u001b[38;5;124m'\u001b[39m] \u001b[38;5;241m=\u001b[39m \u001b[43mpd\u001b[49m\u001b[38;5;241;43m.\u001b[39;49m\u001b[43mto_datetime\u001b[49m\u001b[43m(\u001b[49m\u001b[38;5;28;43mself\u001b[39;49m\u001b[38;5;241;43m.\u001b[39;49m\u001b[43mdata_set\u001b[49m\u001b[43m[\u001b[49m\u001b[38;5;124;43m'\u001b[39;49m\u001b[38;5;124;43mstart_time\u001b[39;49m\u001b[38;5;124;43m'\u001b[39;49m\u001b[43m]\u001b[49m\u001b[43m \u001b[49m\u001b[43m)\u001b[49m\n\u001b[0;32m     19\u001b[0m \u001b[38;5;66;03m# Make a copy of the DataFrame\u001b[39;00m\n\u001b[0;32m     20\u001b[0m \u001b[38;5;28mself\u001b[39m\u001b[38;5;241m.\u001b[39mdata_new \u001b[38;5;241m=\u001b[39m \u001b[38;5;28mself\u001b[39m\u001b[38;5;241m.\u001b[39mdata_set\u001b[38;5;241m.\u001b[39mcopy()\n",
      "File \u001b[1;32m~\\AppData\\Roaming\\Python\\Python312\\site-packages\\pandas\\core\\tools\\datetimes.py:1067\u001b[0m, in \u001b[0;36mto_datetime\u001b[1;34m(arg, errors, dayfirst, yearfirst, utc, format, exact, unit, infer_datetime_format, origin, cache)\u001b[0m\n\u001b[0;32m   1065\u001b[0m         result \u001b[38;5;241m=\u001b[39m arg\u001b[38;5;241m.\u001b[39mmap(cache_array)\n\u001b[0;32m   1066\u001b[0m     \u001b[38;5;28;01melse\u001b[39;00m:\n\u001b[1;32m-> 1067\u001b[0m         values \u001b[38;5;241m=\u001b[39m \u001b[43mconvert_listlike\u001b[49m\u001b[43m(\u001b[49m\u001b[43marg\u001b[49m\u001b[38;5;241;43m.\u001b[39;49m\u001b[43m_values\u001b[49m\u001b[43m,\u001b[49m\u001b[43m \u001b[49m\u001b[38;5;28;43mformat\u001b[39;49m\u001b[43m)\u001b[49m\n\u001b[0;32m   1068\u001b[0m         result \u001b[38;5;241m=\u001b[39m arg\u001b[38;5;241m.\u001b[39m_constructor(values, index\u001b[38;5;241m=\u001b[39marg\u001b[38;5;241m.\u001b[39mindex, name\u001b[38;5;241m=\u001b[39marg\u001b[38;5;241m.\u001b[39mname)\n\u001b[0;32m   1069\u001b[0m \u001b[38;5;28;01melif\u001b[39;00m \u001b[38;5;28misinstance\u001b[39m(arg, (ABCDataFrame, abc\u001b[38;5;241m.\u001b[39mMutableMapping)):\n",
      "File \u001b[1;32m~\\AppData\\Roaming\\Python\\Python312\\site-packages\\pandas\\core\\tools\\datetimes.py:433\u001b[0m, in \u001b[0;36m_convert_listlike_datetimes\u001b[1;34m(arg, format, name, utc, unit, errors, dayfirst, yearfirst, exact)\u001b[0m\n\u001b[0;32m    431\u001b[0m \u001b[38;5;66;03m# `format` could be inferred, or user didn't ask for mixed-format parsing.\u001b[39;00m\n\u001b[0;32m    432\u001b[0m \u001b[38;5;28;01mif\u001b[39;00m \u001b[38;5;28mformat\u001b[39m \u001b[38;5;129;01mis\u001b[39;00m \u001b[38;5;129;01mnot\u001b[39;00m \u001b[38;5;28;01mNone\u001b[39;00m \u001b[38;5;129;01mand\u001b[39;00m \u001b[38;5;28mformat\u001b[39m \u001b[38;5;241m!=\u001b[39m \u001b[38;5;124m\"\u001b[39m\u001b[38;5;124mmixed\u001b[39m\u001b[38;5;124m\"\u001b[39m:\n\u001b[1;32m--> 433\u001b[0m     \u001b[38;5;28;01mreturn\u001b[39;00m \u001b[43m_array_strptime_with_fallback\u001b[49m\u001b[43m(\u001b[49m\u001b[43marg\u001b[49m\u001b[43m,\u001b[49m\u001b[43m \u001b[49m\u001b[43mname\u001b[49m\u001b[43m,\u001b[49m\u001b[43m \u001b[49m\u001b[43mutc\u001b[49m\u001b[43m,\u001b[49m\u001b[43m \u001b[49m\u001b[38;5;28;43mformat\u001b[39;49m\u001b[43m,\u001b[49m\u001b[43m \u001b[49m\u001b[43mexact\u001b[49m\u001b[43m,\u001b[49m\u001b[43m \u001b[49m\u001b[43merrors\u001b[49m\u001b[43m)\u001b[49m\n\u001b[0;32m    435\u001b[0m result, tz_parsed \u001b[38;5;241m=\u001b[39m objects_to_datetime64(\n\u001b[0;32m    436\u001b[0m     arg,\n\u001b[0;32m    437\u001b[0m     dayfirst\u001b[38;5;241m=\u001b[39mdayfirst,\n\u001b[1;32m   (...)\u001b[0m\n\u001b[0;32m    441\u001b[0m     allow_object\u001b[38;5;241m=\u001b[39m\u001b[38;5;28;01mTrue\u001b[39;00m,\n\u001b[0;32m    442\u001b[0m )\n\u001b[0;32m    444\u001b[0m \u001b[38;5;28;01mif\u001b[39;00m tz_parsed \u001b[38;5;129;01mis\u001b[39;00m \u001b[38;5;129;01mnot\u001b[39;00m \u001b[38;5;28;01mNone\u001b[39;00m:\n\u001b[0;32m    445\u001b[0m     \u001b[38;5;66;03m# We can take a shortcut since the datetime64 numpy array\u001b[39;00m\n\u001b[0;32m    446\u001b[0m     \u001b[38;5;66;03m# is in UTC\u001b[39;00m\n",
      "File \u001b[1;32m~\\AppData\\Roaming\\Python\\Python312\\site-packages\\pandas\\core\\tools\\datetimes.py:467\u001b[0m, in \u001b[0;36m_array_strptime_with_fallback\u001b[1;34m(arg, name, utc, fmt, exact, errors)\u001b[0m\n\u001b[0;32m    456\u001b[0m \u001b[38;5;28;01mdef\u001b[39;00m \u001b[38;5;21m_array_strptime_with_fallback\u001b[39m(\n\u001b[0;32m    457\u001b[0m     arg,\n\u001b[0;32m    458\u001b[0m     name,\n\u001b[1;32m   (...)\u001b[0m\n\u001b[0;32m    462\u001b[0m     errors: \u001b[38;5;28mstr\u001b[39m,\n\u001b[0;32m    463\u001b[0m ) \u001b[38;5;241m-\u001b[39m\u001b[38;5;241m>\u001b[39m Index:\n\u001b[0;32m    464\u001b[0m \u001b[38;5;250m    \u001b[39m\u001b[38;5;124;03m\"\"\"\u001b[39;00m\n\u001b[0;32m    465\u001b[0m \u001b[38;5;124;03m    Call array_strptime, with fallback behavior depending on 'errors'.\u001b[39;00m\n\u001b[0;32m    466\u001b[0m \u001b[38;5;124;03m    \"\"\"\u001b[39;00m\n\u001b[1;32m--> 467\u001b[0m     result, tz_out \u001b[38;5;241m=\u001b[39m \u001b[43marray_strptime\u001b[49m\u001b[43m(\u001b[49m\u001b[43marg\u001b[49m\u001b[43m,\u001b[49m\u001b[43m \u001b[49m\u001b[43mfmt\u001b[49m\u001b[43m,\u001b[49m\u001b[43m \u001b[49m\u001b[43mexact\u001b[49m\u001b[38;5;241;43m=\u001b[39;49m\u001b[43mexact\u001b[49m\u001b[43m,\u001b[49m\u001b[43m \u001b[49m\u001b[43merrors\u001b[49m\u001b[38;5;241;43m=\u001b[39;49m\u001b[43merrors\u001b[49m\u001b[43m,\u001b[49m\u001b[43m \u001b[49m\u001b[43mutc\u001b[49m\u001b[38;5;241;43m=\u001b[39;49m\u001b[43mutc\u001b[49m\u001b[43m)\u001b[49m\n\u001b[0;32m    468\u001b[0m     \u001b[38;5;28;01mif\u001b[39;00m tz_out \u001b[38;5;129;01mis\u001b[39;00m \u001b[38;5;129;01mnot\u001b[39;00m \u001b[38;5;28;01mNone\u001b[39;00m:\n\u001b[0;32m    469\u001b[0m         unit \u001b[38;5;241m=\u001b[39m np\u001b[38;5;241m.\u001b[39mdatetime_data(result\u001b[38;5;241m.\u001b[39mdtype)[\u001b[38;5;241m0\u001b[39m]\n",
      "File \u001b[1;32mstrptime.pyx:501\u001b[0m, in \u001b[0;36mpandas._libs.tslibs.strptime.array_strptime\u001b[1;34m()\u001b[0m\n",
      "File \u001b[1;32mstrptime.pyx:451\u001b[0m, in \u001b[0;36mpandas._libs.tslibs.strptime.array_strptime\u001b[1;34m()\u001b[0m\n",
      "File \u001b[1;32mstrptime.pyx:583\u001b[0m, in \u001b[0;36mpandas._libs.tslibs.strptime._parse_with_format\u001b[1;34m()\u001b[0m\n",
      "\u001b[1;31mValueError\u001b[0m: time data \"13-01-2024 02:55\" doesn't match format \"%m-%d-%Y %H:%M\", at position 3. You might want to try:\n    - passing `format` if your strings have a consistent format;\n    - passing `format='ISO8601'` if your strings are all ISO8601 but not necessarily in exactly the same format;\n    - passing `format='mixed'`, and the format will be inferred for each element individually. You might want to use `dayfirst` alongside this."
     ]
    }
   ],
   "source": [
    "import numpy as np \n",
    "import pandas as pd \n",
    "import requests as api\n",
    "\n",
    "class WaterApi:\n",
    "\n",
    "\n",
    "    def __init__(self) -> None:\n",
    "        URL  = \"http://nodewater.whf.bz/json.php?apikey=LIFQpwnVeyZ84Yvxk9OPDAaXV9PsbIGc&view=true\"\n",
    "        res = api.get(URL)\n",
    "        __data =  res.json()\n",
    "\n",
    "        self.data_set = pd.DataFrame(__data['Data'])\n",
    "\n",
    "        self.data_set =  self.data_set.dropna() if self.data_set.iloc[-1].isnull().sum()== 0 else self.data_set[:-1].dropna()\n",
    "\n",
    "        self.data_set['start_time'] = pd.to_datetime(self.data_set['start_time'] )\n",
    "\n",
    "        # Make a copy of the DataFrame\n",
    "        self.data_new = self.data_set.copy()\n",
    "\n",
    "        # Set 'start_time' as the index\n",
    "        self.data_new .set_index('start_time', inplace=True)\n",
    "\n",
    "    \n",
    "    # def filt (self):\n",
    "    #     self.data_set['start_time'] = pd.to_datetime(self.data_set['start_time'] )\n",
    "\n",
    "    #     # Make a copy of the DataFrame\n",
    "    #     self.data_new = self.data_set.copy()\n",
    "\n",
    "    #     # Set 'start_time' as the index\n",
    "    #     self.data_new .set_index('start_time', inplace=True)\n",
    "    #     return self.data_new\n",
    "\n",
    "\n",
    "    def __get_data_by_filter ( self  , date_flag , value):\n",
    "            return self.data_new.resample(date_flag)[value ] \n",
    "\n",
    "        # monthly_duration = df1.resample('M')['duration' ] \n",
    "    def get_monthly(self) :\n",
    "        monthly_duration =  self.__get_data_by_filter('M' , 'duration')\n",
    "        monthly_litre_water =  self.__get_data_by_filter('M' , 'litreWater')\n",
    "        # print(type(monthly_duration))\n",
    "        print(\"Total Duration of motor run\")\n",
    "\n",
    "        m_d = monthly_duration.sum().reset_index('start_time')\n",
    "        # print(m_d)\n",
    "\n",
    "        # print(\"Total Litre of Water has used :\")\n",
    "        m_l = monthly_litre_water.sum().reset_index('start_time')\n",
    "        # print(m_l)\n",
    "\n",
    "        return pd.merge(m_d , m_l  , on='start_time'  , how=\"inner\")\n",
    "\n",
    "    def get_weekly(self):\n",
    "        weekly_duration = self.__get_data_by_filter('W' , 'duration')\n",
    "        weekly_water_litre = self.__get_data_by_filter('W' , 'litreWater')\n",
    "\n",
    "        w_d = weekly_duration.sum().reset_index('start_time')\n",
    "        w_l = weekly_water_litre.sum().reset_index('start_time')\n",
    "\n",
    "\n",
    "        return pd.merge(w_d, w_l , on=\"start_time\" , how=\"inner\")\n",
    "    \n",
    "    def get_daily (self):\n",
    "        daily_duration = self.__get_data_by_filter('D' , 'duration')\n",
    "        daily_litre_water = self.__get_data_by_filter('D' , 'litreWater')\n",
    "\n",
    "        d_d = daily_duration.sum().reset_index('start_time')\n",
    "        d_l = daily_litre_water.sum().reset_index('start_time')\n",
    "\n",
    "        return  pd.merge(d_d , d_l , on=\"start_time\" , how=\"inner\")\n",
    "         \n",
    "\n",
    "# test \n",
    "\n",
    "d = WaterApi()\n",
    "print(d.data_set)\n"
   ]
  },
  {
   "cell_type": "code",
   "execution_count": 9,
   "metadata": {},
   "outputs": [
    {
     "data": {
      "text/plain": [
       "id            1197\n",
       "machine_id    1197\n",
       "start_time    1197\n",
       "end_time      1197\n",
       "duration      1197\n",
       "litreWater    1197\n",
       "dtype: int64"
      ]
     },
     "execution_count": 9,
     "metadata": {},
     "output_type": "execute_result"
    }
   ],
   "source": [
    "d.data_set.count()"
   ]
  },
  {
   "cell_type": "code",
   "execution_count": 12,
   "metadata": {},
   "outputs": [
    {
     "ename": "AttributeError",
     "evalue": "'WaterApi' object has no attribute 'data_new'",
     "output_type": "error",
     "traceback": [
      "\u001b[1;31m---------------------------------------------------------------------------\u001b[0m",
      "\u001b[1;31mAttributeError\u001b[0m                            Traceback (most recent call last)",
      "Cell \u001b[1;32mIn[12], line 1\u001b[0m\n\u001b[1;32m----> 1\u001b[0m \u001b[43md\u001b[49m\u001b[38;5;241;43m.\u001b[39;49m\u001b[43mget_daily\u001b[49m\u001b[43m(\u001b[49m\u001b[43m)\u001b[49m\n",
      "Cell \u001b[1;32mIn[10], line 57\u001b[0m, in \u001b[0;36mWaterApi.get_daily\u001b[1;34m(self)\u001b[0m\n\u001b[0;32m     56\u001b[0m \u001b[38;5;28;01mdef\u001b[39;00m \u001b[38;5;21mget_daily\u001b[39m (\u001b[38;5;28mself\u001b[39m):\n\u001b[1;32m---> 57\u001b[0m     daily_duration \u001b[38;5;241m=\u001b[39m \u001b[38;5;28;43mself\u001b[39;49m\u001b[38;5;241;43m.\u001b[39;49m\u001b[43m__get_data_by_filter\u001b[49m\u001b[43m(\u001b[49m\u001b[38;5;124;43m'\u001b[39;49m\u001b[38;5;124;43mD\u001b[39;49m\u001b[38;5;124;43m'\u001b[39;49m\u001b[43m \u001b[49m\u001b[43m,\u001b[49m\u001b[43m \u001b[49m\u001b[38;5;124;43m'\u001b[39;49m\u001b[38;5;124;43mduration\u001b[39;49m\u001b[38;5;124;43m'\u001b[39;49m\u001b[43m)\u001b[49m\n\u001b[0;32m     58\u001b[0m     daily_litre_water \u001b[38;5;241m=\u001b[39m \u001b[38;5;28mself\u001b[39m\u001b[38;5;241m.\u001b[39m__get_data_by_filter(\u001b[38;5;124m'\u001b[39m\u001b[38;5;124mD\u001b[39m\u001b[38;5;124m'\u001b[39m , \u001b[38;5;124m'\u001b[39m\u001b[38;5;124mlitreWater\u001b[39m\u001b[38;5;124m'\u001b[39m)\n\u001b[0;32m     60\u001b[0m     d_d \u001b[38;5;241m=\u001b[39m daily_duration\u001b[38;5;241m.\u001b[39msum()\u001b[38;5;241m.\u001b[39mreset_index(\u001b[38;5;124m'\u001b[39m\u001b[38;5;124mstart_time\u001b[39m\u001b[38;5;124m'\u001b[39m)\n",
      "Cell \u001b[1;32mIn[10], line 28\u001b[0m, in \u001b[0;36mWaterApi.__get_data_by_filter\u001b[1;34m(self, date_flag, value)\u001b[0m\n\u001b[0;32m     27\u001b[0m \u001b[38;5;28;01mdef\u001b[39;00m \u001b[38;5;21m__get_data_by_filter\u001b[39m ( \u001b[38;5;28mself\u001b[39m  , date_flag , value):\n\u001b[1;32m---> 28\u001b[0m         \u001b[38;5;28;01mreturn\u001b[39;00m \u001b[38;5;28;43mself\u001b[39;49m\u001b[38;5;241;43m.\u001b[39;49m\u001b[43mdata_new\u001b[49m\u001b[38;5;241m.\u001b[39mresample(date_flag)[value ]\n",
      "\u001b[1;31mAttributeError\u001b[0m: 'WaterApi' object has no attribute 'data_new'"
     ]
    }
   ],
   "source": [
    "d.get_daily()"
   ]
  },
  {
   "cell_type": "code",
   "execution_count": 44,
   "metadata": {},
   "outputs": [
    {
     "name": "stdout",
     "output_type": "stream",
     "text": [
      "  id  machine_id          start_time          end_time  duration  litreWater\n",
      "0  1  rf6xuvTNAp 2024-01-12 06:57:00  12-01-2024 06:59       174    4.569732\n",
      "1  2  rf6xuvTNAp 2024-01-12 13:34:00  12-01-2024 13:36       132    3.466694\n",
      "2  3  rf6xuvTNAp 2024-01-12 22:02:00  12-01-2024 22:05       161    4.228316\n"
     ]
    }
   ],
   "source": [
    "import numpy as np\n",
    "import pandas as pd\n",
    "import requests as api\n",
    "\n",
    "class WaterApi:\n",
    "    def __init__(self) -> None:\n",
    "        URL = \"http://nodewater.whf.bz/json.php?apikey=LIFQpwnVeyZ84Yvxk9OPDAaXV9PsbIGc&view=true\"\n",
    "        res = api.get(URL)\n",
    "        __data = res.json()\n",
    "\n",
    "        # Load data into a DataFrame\n",
    "        self.data_set = pd.DataFrame(__data['Data'])\n",
    "        self.data_set['duration'] = self.data_set['duration'].astype(int)\n",
    "        self.data_set['litreWater'] = self.data_set['litreWater'].astype(float)\n",
    "\n",
    "        # Drop missing values if the last row is completely null\n",
    "        self.data_set = self.data_set.dropna() if self.data_set.iloc[-1].isnull().sum() == 0 else self.data_set[:-1].dropna()\n",
    "\n",
    "        # Convert 'start_time' to datetime with the correct format\n",
    "        self.data_set['start_time'] = pd.to_datetime(self.data_set['start_time'], format=\"%d-%m-%Y %H:%M\")\n",
    "\n",
    "        # Make a copy of the DataFrame\n",
    "        self.data_new = self.data_set.copy()\n",
    "\n",
    "        # Set 'start_time' as the index\n",
    "        self.data_new.set_index('start_time', inplace=True)\n",
    "\n",
    "    def __get_data_by_filter(self, date_flag, value):\n",
    "        return self.data_new.resample(date_flag)[value]\n",
    "\n",
    "    def get_monthly(self):\n",
    "        monthly_duration = self.__get_data_by_filter('M', 'duration')\n",
    "        monthly_litre_water = self.__get_data_by_filter('M', 'litreWater')\n",
    "        print(\"Total Duration of motor run\")\n",
    "\n",
    "        m_d = monthly_duration.sum().reset_index('start_time')\n",
    "        m_l = monthly_litre_water.sum().reset_index('start_time')\n",
    "\n",
    "        return pd.merge(m_d, m_l, on='start_time', how=\"inner\")\n",
    "\n",
    "    def get_weekly(self):\n",
    "        weekly_duration = self.__get_data_by_filter('W', 'duration')\n",
    "        weekly_water_litre = self.__get_data_by_filter('W', 'litreWater')\n",
    "\n",
    "        w_d = weekly_duration.sum().reset_index('start_time')\n",
    "        w_l = weekly_water_litre.sum().reset_index('start_time')\n",
    "\n",
    "        return pd.merge(w_d, w_l, on=\"start_time\", how=\"inner\")\n",
    "\n",
    "    def get_daily(self):\n",
    "        daily_duration = self.__get_data_by_filter('D', 'duration')\n",
    "        daily_litre_water = self.__get_data_by_filter('D', 'litreWater')\n",
    "\n",
    "        d_d = daily_duration.sum().reset_index('start_time')\n",
    "        d_l = daily_litre_water.sum().reset_index('start_time')\n",
    "\n",
    "        return pd.merge(d_d, d_l, on=\"start_time\", how=\"inner\")\n",
    "       \n",
    "\n",
    "\n",
    "# Test\n",
    "d = WaterApi()\n",
    "print(d.data_set.head(3))\n"
   ]
  },
  {
   "cell_type": "code",
   "execution_count": 46,
   "metadata": {},
   "outputs": [
    {
     "data": {
      "text/html": [
       "<div>\n",
       "<style scoped>\n",
       "    .dataframe tbody tr th:only-of-type {\n",
       "        vertical-align: middle;\n",
       "    }\n",
       "\n",
       "    .dataframe tbody tr th {\n",
       "        vertical-align: top;\n",
       "    }\n",
       "\n",
       "    .dataframe thead th {\n",
       "        text-align: right;\n",
       "    }\n",
       "</style>\n",
       "<table border=\"1\" class=\"dataframe\">\n",
       "  <thead>\n",
       "    <tr style=\"text-align: right;\">\n",
       "      <th></th>\n",
       "      <th>start_time</th>\n",
       "      <th>duration</th>\n",
       "      <th>litreWater</th>\n",
       "    </tr>\n",
       "  </thead>\n",
       "  <tbody>\n",
       "    <tr>\n",
       "      <th>0</th>\n",
       "      <td>2024-01-12</td>\n",
       "      <td>467</td>\n",
       "      <td>12.264742</td>\n",
       "    </tr>\n",
       "    <tr>\n",
       "      <th>1</th>\n",
       "      <td>2024-01-13</td>\n",
       "      <td>724</td>\n",
       "      <td>19.014289</td>\n",
       "    </tr>\n",
       "    <tr>\n",
       "      <th>2</th>\n",
       "      <td>2024-01-14</td>\n",
       "      <td>761</td>\n",
       "      <td>19.986014</td>\n",
       "    </tr>\n",
       "    <tr>\n",
       "      <th>3</th>\n",
       "      <td>2024-01-15</td>\n",
       "      <td>640</td>\n",
       "      <td>16.808211</td>\n",
       "    </tr>\n",
       "    <tr>\n",
       "      <th>4</th>\n",
       "      <td>2024-01-16</td>\n",
       "      <td>472</td>\n",
       "      <td>12.396056</td>\n",
       "    </tr>\n",
       "    <tr>\n",
       "      <th>...</th>\n",
       "      <td>...</td>\n",
       "      <td>...</td>\n",
       "      <td>...</td>\n",
       "    </tr>\n",
       "    <tr>\n",
       "      <th>291</th>\n",
       "      <td>2024-10-29</td>\n",
       "      <td>538</td>\n",
       "      <td>14.129403</td>\n",
       "    </tr>\n",
       "    <tr>\n",
       "      <th>292</th>\n",
       "      <td>2024-10-30</td>\n",
       "      <td>438</td>\n",
       "      <td>11.503120</td>\n",
       "    </tr>\n",
       "    <tr>\n",
       "      <th>293</th>\n",
       "      <td>2024-10-31</td>\n",
       "      <td>319</td>\n",
       "      <td>8.377843</td>\n",
       "    </tr>\n",
       "    <tr>\n",
       "      <th>294</th>\n",
       "      <td>2024-11-01</td>\n",
       "      <td>637</td>\n",
       "      <td>16.729423</td>\n",
       "    </tr>\n",
       "    <tr>\n",
       "      <th>295</th>\n",
       "      <td>2024-11-02</td>\n",
       "      <td>573</td>\n",
       "      <td>15.048602</td>\n",
       "    </tr>\n",
       "  </tbody>\n",
       "</table>\n",
       "<p>296 rows × 3 columns</p>\n",
       "</div>"
      ],
      "text/plain": [
       "    start_time  duration  litreWater\n",
       "0   2024-01-12       467   12.264742\n",
       "1   2024-01-13       724   19.014289\n",
       "2   2024-01-14       761   19.986014\n",
       "3   2024-01-15       640   16.808211\n",
       "4   2024-01-16       472   12.396056\n",
       "..         ...       ...         ...\n",
       "291 2024-10-29       538   14.129403\n",
       "292 2024-10-30       438   11.503120\n",
       "293 2024-10-31       319    8.377843\n",
       "294 2024-11-01       637   16.729423\n",
       "295 2024-11-02       573   15.048602\n",
       "\n",
       "[296 rows x 3 columns]"
      ]
     },
     "execution_count": 46,
     "metadata": {},
     "output_type": "execute_result"
    }
   ],
   "source": [
    "# d.get_daily().head(10)\n",
    "d.get_daily()"
   ]
  },
  {
   "cell_type": "code",
   "execution_count": 26,
   "metadata": {},
   "outputs": [
    {
     "name": "stdout",
     "output_type": "stream",
     "text": [
      "Total Duration of motor run\n"
     ]
    },
    {
     "name": "stderr",
     "output_type": "stream",
     "text": [
      "C:\\Users\\haris\\AppData\\Local\\Temp\\ipykernel_10936\\2826220214.py:27: FutureWarning: 'M' is deprecated and will be removed in a future version, please use 'ME' instead.\n",
      "  return self.data_new.resample(date_flag)[value]\n"
     ]
    },
    {
     "data": {
      "text/html": [
       "<div>\n",
       "<style scoped>\n",
       "    .dataframe tbody tr th:only-of-type {\n",
       "        vertical-align: middle;\n",
       "    }\n",
       "\n",
       "    .dataframe tbody tr th {\n",
       "        vertical-align: top;\n",
       "    }\n",
       "\n",
       "    .dataframe thead th {\n",
       "        text-align: right;\n",
       "    }\n",
       "</style>\n",
       "<table border=\"1\" class=\"dataframe\">\n",
       "  <thead>\n",
       "    <tr style=\"text-align: right;\">\n",
       "      <th></th>\n",
       "      <th>start_time</th>\n",
       "      <th>duration</th>\n",
       "      <th>litreWater</th>\n",
       "    </tr>\n",
       "  </thead>\n",
       "  <tbody>\n",
       "    <tr>\n",
       "      <th>0</th>\n",
       "      <td>2024-01-31</td>\n",
       "      <td>1741321611311781381441331371451711801281391521...</td>\n",
       "      <td>4.569732423.466693564.228315633.440430734.6747...</td>\n",
       "    </tr>\n",
       "    <tr>\n",
       "      <th>1</th>\n",
       "      <td>2024-02-29</td>\n",
       "      <td>1551461661291791261331801351671461501251341341...</td>\n",
       "      <td>4.070738653.834373184.359629783.387905074.7010...</td>\n",
       "    </tr>\n",
       "    <tr>\n",
       "      <th>2</th>\n",
       "      <td>2024-03-31</td>\n",
       "      <td>2032972922072322582972402222551812892491992362...</td>\n",
       "      <td>5.331354497.800060517.668746365.436405816.0929...</td>\n",
       "    </tr>\n",
       "    <tr>\n",
       "      <th>3</th>\n",
       "      <td>2024-04-30</td>\n",
       "      <td>2572122192822702652052562552192462661822342642...</td>\n",
       "      <td>6.749547315.567719965.751559777.406118067.0909...</td>\n",
       "    </tr>\n",
       "    <tr>\n",
       "      <th>4</th>\n",
       "      <td>2024-05-31</td>\n",
       "      <td>2892252212792992952962772232772922562102082682...</td>\n",
       "      <td>7.589957875.909136755.804085437.327329577.8525...</td>\n",
       "    </tr>\n",
       "    <tr>\n",
       "      <th>5</th>\n",
       "      <td>2024-06-30</td>\n",
       "      <td>1952562002751872312692792432182572082192822122...</td>\n",
       "      <td>5.121251856.723284485.2525667.222278254.911149...</td>\n",
       "    </tr>\n",
       "    <tr>\n",
       "      <th>6</th>\n",
       "      <td>2024-07-31</td>\n",
       "      <td>1341126689153116801511716514366681607613211516...</td>\n",
       "      <td>3.519219222.941436961.733346782.337391874.0182...</td>\n",
       "    </tr>\n",
       "    <tr>\n",
       "      <th>7</th>\n",
       "      <td>2024-08-31</td>\n",
       "      <td>9314382168135168961231381431101261331131001031...</td>\n",
       "      <td>2.442443193.755584692.153552064.412155443.5454...</td>\n",
       "    </tr>\n",
       "    <tr>\n",
       "      <th>8</th>\n",
       "      <td>2024-09-30</td>\n",
       "      <td>1239590126122941031771401431771626114564897167...</td>\n",
       "      <td>3.230328092.494968852.36365473.309116583.20406...</td>\n",
       "    </tr>\n",
       "    <tr>\n",
       "      <th>9</th>\n",
       "      <td>2024-10-31</td>\n",
       "      <td>1191771048210812887128118111147146173168109113...</td>\n",
       "      <td>3.125276774.648520912.731334322.153552062.8363...</td>\n",
       "    </tr>\n",
       "  </tbody>\n",
       "</table>\n",
       "</div>"
      ],
      "text/plain": [
       "  start_time                                           duration  \\\n",
       "0 2024-01-31  1741321611311781381441331371451711801281391521...   \n",
       "1 2024-02-29  1551461661291791261331801351671461501251341341...   \n",
       "2 2024-03-31  2032972922072322582972402222551812892491992362...   \n",
       "3 2024-04-30  2572122192822702652052562552192462661822342642...   \n",
       "4 2024-05-31  2892252212792992952962772232772922562102082682...   \n",
       "5 2024-06-30  1952562002751872312692792432182572082192822122...   \n",
       "6 2024-07-31  1341126689153116801511716514366681607613211516...   \n",
       "7 2024-08-31  9314382168135168961231381431101261331131001031...   \n",
       "8 2024-09-30  1239590126122941031771401431771626114564897167...   \n",
       "9 2024-10-31  1191771048210812887128118111147146173168109113...   \n",
       "\n",
       "                                          litreWater  \n",
       "0  4.569732423.466693564.228315633.440430734.6747...  \n",
       "1  4.070738653.834373184.359629783.387905074.7010...  \n",
       "2  5.331354497.800060517.668746365.436405816.0929...  \n",
       "3  6.749547315.567719965.751559777.406118067.0909...  \n",
       "4  7.589957875.909136755.804085437.327329577.8525...  \n",
       "5  5.121251856.723284485.2525667.222278254.911149...  \n",
       "6  3.519219222.941436961.733346782.337391874.0182...  \n",
       "7  2.442443193.755584692.153552064.412155443.5454...  \n",
       "8  3.230328092.494968852.36365473.309116583.20406...  \n",
       "9  3.125276774.648520912.731334322.153552062.8363...  "
      ]
     },
     "execution_count": 26,
     "metadata": {},
     "output_type": "execute_result"
    }
   ],
   "source": [
    "d.get_monthly().head(10)"
   ]
  },
  {
   "cell_type": "code",
   "execution_count": 39,
   "metadata": {},
   "outputs": [
    {
     "data": {
      "text/html": [
       "<div>\n",
       "<style scoped>\n",
       "    .dataframe tbody tr th:only-of-type {\n",
       "        vertical-align: middle;\n",
       "    }\n",
       "\n",
       "    .dataframe tbody tr th {\n",
       "        vertical-align: top;\n",
       "    }\n",
       "\n",
       "    .dataframe thead th {\n",
       "        text-align: right;\n",
       "    }\n",
       "</style>\n",
       "<table border=\"1\" class=\"dataframe\">\n",
       "  <thead>\n",
       "    <tr style=\"text-align: right;\">\n",
       "      <th></th>\n",
       "      <th>id</th>\n",
       "      <th>machine_id</th>\n",
       "      <th>end_time</th>\n",
       "      <th>duration</th>\n",
       "      <th>litreWater</th>\n",
       "    </tr>\n",
       "    <tr>\n",
       "      <th>start_time</th>\n",
       "      <th></th>\n",
       "      <th></th>\n",
       "      <th></th>\n",
       "      <th></th>\n",
       "      <th></th>\n",
       "    </tr>\n",
       "  </thead>\n",
       "  <tbody>\n",
       "    <tr>\n",
       "      <th>2024-01-12 06:57:00</th>\n",
       "      <td>1</td>\n",
       "      <td>rf6xuvTNAp</td>\n",
       "      <td>12-01-2024 06:59</td>\n",
       "      <td>174</td>\n",
       "      <td>4.56973242</td>\n",
       "    </tr>\n",
       "    <tr>\n",
       "      <th>2024-01-12 13:34:00</th>\n",
       "      <td>2</td>\n",
       "      <td>rf6xuvTNAp</td>\n",
       "      <td>12-01-2024 13:36</td>\n",
       "      <td>132</td>\n",
       "      <td>3.46669356</td>\n",
       "    </tr>\n",
       "    <tr>\n",
       "      <th>2024-01-12 22:02:00</th>\n",
       "      <td>3</td>\n",
       "      <td>rf6xuvTNAp</td>\n",
       "      <td>12-01-2024 22:05</td>\n",
       "      <td>161</td>\n",
       "      <td>4.22831563</td>\n",
       "    </tr>\n",
       "  </tbody>\n",
       "</table>\n",
       "</div>"
      ],
      "text/plain": [
       "                    id  machine_id          end_time duration  litreWater\n",
       "start_time                                                               \n",
       "2024-01-12 06:57:00  1  rf6xuvTNAp  12-01-2024 06:59      174  4.56973242\n",
       "2024-01-12 13:34:00  2  rf6xuvTNAp  12-01-2024 13:36      132  3.46669356\n",
       "2024-01-12 22:02:00  3  rf6xuvTNAp  12-01-2024 22:05      161  4.22831563"
      ]
     },
     "execution_count": 39,
     "metadata": {},
     "output_type": "execute_result"
    }
   ],
   "source": [
    "d.data_new.head(3)"
   ]
  },
  {
   "cell_type": "code",
   "execution_count": 43,
   "metadata": {},
   "outputs": [
    {
     "data": {
      "text/plain": [
       "id             object\n",
       "machine_id     object\n",
       "end_time       object\n",
       "duration       object\n",
       "litreWater    float64\n",
       "dtype: object"
      ]
     },
     "execution_count": 43,
     "metadata": {},
     "output_type": "execute_result"
    }
   ],
   "source": [
    "d.data_new.dtypes\n",
    "d.data_new['litreWater' ] =  d.data_new['litreWater' ].astype(float)\n",
    "d.data_new.dtypes\n"
   ]
  },
  {
   "cell_type": "code",
   "execution_count": 41,
   "metadata": {},
   "outputs": [
    {
     "data": {
      "text/plain": [
       "id                    object\n",
       "machine_id            object\n",
       "start_time    datetime64[ns]\n",
       "end_time              object\n",
       "duration              object\n",
       "litreWater            object\n",
       "dtype: object"
      ]
     },
     "execution_count": 41,
     "metadata": {},
     "output_type": "execute_result"
    }
   ],
   "source": [
    "d.data_set.dtypes"
   ]
  }
 ],
 "metadata": {
  "kernelspec": {
   "display_name": "Python 3",
   "language": "python",
   "name": "python3"
  },
  "language_info": {
   "codemirror_mode": {
    "name": "ipython",
    "version": 3
   },
   "file_extension": ".py",
   "mimetype": "text/x-python",
   "name": "python",
   "nbconvert_exporter": "python",
   "pygments_lexer": "ipython3",
   "version": "3.12.0"
  }
 },
 "nbformat": 4,
 "nbformat_minor": 2
}
